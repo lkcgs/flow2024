{
 "cells": [
  {
   "cell_type": "code",
   "execution_count": 15,
   "id": "03482649",
   "metadata": {},
   "outputs": [],
   "source": [
    "import ipywidgets as widgets\n",
    "from ipyfilechooser import FileChooser\n",
    "import whitebox\n",
    "import os\n",
    "from IPython.display import Markdown, display"
   ]
  },
  {
   "cell_type": "code",
   "execution_count": 16,
   "id": "f20a0972",
   "metadata": {},
   "outputs": [],
   "source": [
    "def printmd(string):\n",
    "    display(Markdown(string))"
   ]
  },
  {
   "cell_type": "code",
   "execution_count": 17,
   "id": "6d57a524",
   "metadata": {},
   "outputs": [],
   "source": [
    "def processing():\n",
    "    global out2\n",
    "    out2 = widgets.Output(layout={'border': '2px solid black', 'height':'250px'})\n",
    "    display(out2)\n",
    "    \n",
    "    with out2:\n",
    "        display('will be processed here ..')"
   ]
  },
  {
   "cell_type": "code",
   "execution_count": 18,
   "id": "02b401f2",
   "metadata": {},
   "outputs": [],
   "source": [
    "def msg():\n",
    "    global out3\n",
    "    \n",
    "    out3 = widgets.Output(layout={'border': '2px solid black', 'height':'100px'})\n",
    "    display(out3)\n",
    "    \n",
    "    with out3:\n",
    "        display('...')"
   ]
  },
  {
   "cell_type": "code",
   "execution_count": 19,
   "id": "8d128508",
   "metadata": {},
   "outputs": [],
   "source": [
    "def calculation():\n",
    "    \n",
    "    dem_name = dem.split(\"/\")[-1][0:-4]\n",
    "    dem_fill = dem_name + \"_PROCESSED.tif\"    \n",
    "    \n",
    "    # prepare DEM\n",
    "    # fill depressions\n",
    "    \n",
    "    wbt.fill_depressions(\n",
    "        dem, \n",
    "        dem_fill, \n",
    "        fix_flats=True   \n",
    "    )\n",
    "        \n",
    "    \n",
    "    with out3:        \n",
    "        printmd('**PROCESSING DONE**')\n",
    "        printmd('The processed DEM was saved as: ' + wdir + dem_fill)\n",
    "    \n",
    "    "
   ]
  },
  {
   "cell_type": "code",
   "execution_count": 20,
   "id": "1430c828",
   "metadata": {},
   "outputs": [],
   "source": [
    "def preparation():\n",
    "    global wbt\n",
    "    global wdir\n",
    "    global dem    \n",
    "  \n",
    "    wbt = whitebox.WhiteboxTools()\n",
    "    \n",
    "    #working directory\n",
    "    wdir = fdialog.selected\n",
    "    wdir = wdir.replace(\"\\\\\", \"/\")\n",
    "    wbt.work_dir = os.path.dirname(wdir)\n",
    "    \n",
    "    #input dem\n",
    "    dem = fdialog2.selected\n",
    "    dem = dem.replace(\"\\\\\", \"/\")    \n",
    "    \n",
    "    with out2:\n",
    "        out2.clear_output()       \n",
    "        calculation()"
   ]
  },
  {
   "cell_type": "code",
   "execution_count": 21,
   "id": "6d092bfb",
   "metadata": {},
   "outputs": [],
   "source": [
    "def on_button1_clicked(b):    \n",
    "    with out3:\n",
    "        out3.clear_output()\n",
    "        printmd('computing ..')\n",
    "    preparation()\n",
    "\n",
    "def but1():\n",
    "    global button1\n",
    "    button1 = widgets.Button(description=\"OK\", disabled=True)\n",
    "    display(button1)    \n",
    "    button1.on_click(on_button1_clicked)    "
   ]
  },
  {
   "cell_type": "code",
   "execution_count": 22,
   "id": "df52801a",
   "metadata": {},
   "outputs": [],
   "source": [
    "def activatebut1():\n",
    "    \n",
    "    if fdialog2.selected[-4:] == '.tif':\n",
    "        button1.disabled = False\n",
    "    else:\n",
    "        button1.disabled = True"
   ]
  },
  {
   "cell_type": "code",
   "execution_count": 23,
   "id": "3b949de9",
   "metadata": {},
   "outputs": [],
   "source": [
    "def demchooser():\n",
    "    global fdialog2\n",
    "    fdialog2 = FileChooser(\n",
    "        os.getcwd(),\n",
    "        title='<b>Input dem</b> (select *.tif file)',\n",
    "        show_hidden=False,\n",
    "        select_default=True,\n",
    "        use_dir_icons=True,\n",
    "        show_only_dirs=False\n",
    "    )   \n",
    "    \n",
    "    display(fdialog2) \n",
    "    \n",
    "    fdialog2.register_callback(activatebut1)"
   ]
  },
  {
   "cell_type": "code",
   "execution_count": 24,
   "id": "4681f132",
   "metadata": {},
   "outputs": [],
   "source": [
    "def wkdchooser():\n",
    "    global fdialog\n",
    "    \n",
    "    fdialog = FileChooser(\n",
    "        os.getcwd(),\n",
    "        title='<b>Working directory</b> (select folder)',\n",
    "        show_hidden=False,\n",
    "        select_default=True,\n",
    "        use_dir_icons=True,\n",
    "        show_only_dirs=True\n",
    "    )\n",
    "    display(fdialog)"
   ]
  },
  {
   "cell_type": "code",
   "execution_count": 25,
   "id": "b75f891d",
   "metadata": {},
   "outputs": [],
   "source": [
    "def inputsetting():\n",
    "    out1 = widgets.Output(layout={'border': '2px solid black'})\n",
    "    display(out1)   \n",
    "    with out1:\n",
    "        wkdchooser()\n",
    "        demchooser()   \n",
    "        but1()"
   ]
  },
  {
   "cell_type": "markdown",
   "id": "a0935af5",
   "metadata": {},
   "source": [
    "# # FLOW2024 - 0 - DEM Preprocessing"
   ]
  },
  {
   "cell_type": "code",
   "execution_count": 1,
   "id": "4df7c9ea",
   "metadata": {},
   "outputs": [
    {
     "ename": "NameError",
     "evalue": "name 'inputsetting' is not defined",
     "output_type": "error",
     "traceback": [
      "\u001b[1;31m---------------------------------------------------------------------------\u001b[0m",
      "\u001b[1;31mNameError\u001b[0m                                 Traceback (most recent call last)",
      "\u001b[1;32m<ipython-input-1-4c1d0e63682d>\u001b[0m in \u001b[0;36m<module>\u001b[1;34m\u001b[0m\n\u001b[1;32m----> 1\u001b[1;33m \u001b[0minputsetting\u001b[0m\u001b[1;33m(\u001b[0m\u001b[1;33m)\u001b[0m\u001b[1;33m\u001b[0m\u001b[1;33m\u001b[0m\u001b[0m\n\u001b[0m",
      "\u001b[1;31mNameError\u001b[0m: name 'inputsetting' is not defined"
     ]
    }
   ],
   "source": [
    "inputsetting()"
   ]
  },
  {
   "cell_type": "code",
   "execution_count": 27,
   "id": "8ea19eb9",
   "metadata": {},
   "outputs": [
    {
     "data": {
      "application/vnd.jupyter.widget-view+json": {
       "model_id": "2ca2a87a994146aba480e3766958986b",
       "version_major": 2,
       "version_minor": 0
      },
      "text/plain": [
       "Output(layout=Layout(border='2px solid black', height='250px'))"
      ]
     },
     "metadata": {},
     "output_type": "display_data"
    }
   ],
   "source": [
    "processing()"
   ]
  },
  {
   "cell_type": "code",
   "execution_count": 28,
   "id": "a4f57b1e",
   "metadata": {},
   "outputs": [
    {
     "data": {
      "application/vnd.jupyter.widget-view+json": {
       "model_id": "d6913f614b964dada60e49a582e11e3e",
       "version_major": 2,
       "version_minor": 0
      },
      "text/plain": [
       "Output(layout=Layout(border='2px solid black', height='100px'))"
      ]
     },
     "metadata": {},
     "output_type": "display_data"
    }
   ],
   "source": [
    "msg()"
   ]
  },
  {
   "cell_type": "code",
   "execution_count": null,
   "id": "67e1c405",
   "metadata": {},
   "outputs": [],
   "source": []
  }
 ],
 "metadata": {
  "kernelspec": {
   "display_name": "Python 3",
   "language": "python",
   "name": "python3"
  },
  "language_info": {
   "codemirror_mode": {
    "name": "ipython",
    "version": 3
   },
   "file_extension": ".py",
   "mimetype": "text/x-python",
   "name": "python",
   "nbconvert_exporter": "python",
   "pygments_lexer": "ipython3",
   "version": "3.8.8"
  }
 },
 "nbformat": 4,
 "nbformat_minor": 5
}
